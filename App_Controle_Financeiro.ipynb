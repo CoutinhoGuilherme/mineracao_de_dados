{
  "cells": [
    {
      "cell_type": "markdown",
      "id": "c543023e",
      "metadata": {
        "id": "c543023e"
      },
      "source": [
        "# 🧪 Pré-processamento de Dados – Grupo: App – Controle Financeiro\n",
        "Aplicativo para controle de receitas e despesas pessoais.\n",
        "\n",
        "> Este notebook contém instruções para realizar as etapas de pré-processamento com base no dataset do projeto. Utilize as células abaixo como base para desenvolver sua análise."
      ]
    },
    {
      "cell_type": "markdown",
      "id": "fFxzeBeMGK0c",
      "metadata": {
        "id": "fFxzeBeMGK0c"
      },
      "source": [
        "## Integrantes ##\n",
        "- André Rosa\n",
        "- Guilherme Coutinho de Moura\n",
        "- Junior Araujo da Silva"
      ]
    },
    {
      "cell_type": "markdown",
      "id": "6fca6708",
      "metadata": {
        "id": "6fca6708"
      },
      "source": [
        "## 📁 Etapa 1: Importação de bibliotecas"
      ]
    },
    {
      "cell_type": "code",
      "execution_count": 1,
      "id": "ce6e0f19",
      "metadata": {
        "id": "ce6e0f19"
      },
      "outputs": [],
      "source": [
        "import pandas as pd\n",
        "import numpy as np\n",
        "import matplotlib.pyplot as plt\n",
        "import seaborn as sns\n",
        "\n",
        "pd.set_option('display.max_columns', None)\n",
        "sns.set(style=\"whitegrid\")"
      ]
    },
    {
      "cell_type": "markdown",
      "id": "ac520007",
      "metadata": {
        "id": "ac520007"
      },
      "source": [
        "## 📂 Etapa 2: Carregamento do Dataset\n",
        "Carregue o dataset `app_controle_financeiro.csv`."
      ]
    },
    {
      "cell_type": "code",
      "execution_count": 2,
      "id": "9a602cdc",
      "metadata": {
        "colab": {
          "base_uri": "https://localhost:8080/",
          "height": 206
        },
        "id": "9a602cdc",
        "outputId": "2c08e28a-2e9c-462c-e243-e4d3a7342a72"
      },
      "outputs": [
        {
          "data": {
            "text/html": [
              "<div>\n",
              "<style scoped>\n",
              "    .dataframe tbody tr th:only-of-type {\n",
              "        vertical-align: middle;\n",
              "    }\n",
              "\n",
              "    .dataframe tbody tr th {\n",
              "        vertical-align: top;\n",
              "    }\n",
              "\n",
              "    .dataframe thead th {\n",
              "        text-align: right;\n",
              "    }\n",
              "</style>\n",
              "<table border=\"1\" class=\"dataframe\">\n",
              "  <thead>\n",
              "    <tr style=\"text-align: right;\">\n",
              "      <th></th>\n",
              "      <th>id_transacao</th>\n",
              "      <th>tipo</th>\n",
              "      <th>categoria</th>\n",
              "      <th>valor</th>\n",
              "      <th>meio_pagamento</th>\n",
              "      <th>data_transacao</th>\n",
              "    </tr>\n",
              "  </thead>\n",
              "  <tbody>\n",
              "    <tr>\n",
              "      <th>0</th>\n",
              "      <td>1</td>\n",
              "      <td>Despesa</td>\n",
              "      <td>Saúde</td>\n",
              "      <td>1930.29</td>\n",
              "      <td>Dinheiro</td>\n",
              "      <td>2023-07-10</td>\n",
              "    </tr>\n",
              "    <tr>\n",
              "      <th>1</th>\n",
              "      <td>2</td>\n",
              "      <td>Despesa</td>\n",
              "      <td>Lazer</td>\n",
              "      <td>1568.54</td>\n",
              "      <td>Dinheiro</td>\n",
              "      <td>2023-02-08</td>\n",
              "    </tr>\n",
              "    <tr>\n",
              "      <th>2</th>\n",
              "      <td>3</td>\n",
              "      <td>Receita</td>\n",
              "      <td>Moradia</td>\n",
              "      <td>1078.88</td>\n",
              "      <td>Dinheiro</td>\n",
              "      <td>2023-09-28</td>\n",
              "    </tr>\n",
              "    <tr>\n",
              "      <th>3</th>\n",
              "      <td>4</td>\n",
              "      <td>Receita</td>\n",
              "      <td>Educação</td>\n",
              "      <td>534.22</td>\n",
              "      <td>Dinheiro</td>\n",
              "      <td>2023-09-22</td>\n",
              "    </tr>\n",
              "    <tr>\n",
              "      <th>4</th>\n",
              "      <td>5</td>\n",
              "      <td>Receita</td>\n",
              "      <td>Alimentação</td>\n",
              "      <td>77.27</td>\n",
              "      <td>Dinheiro</td>\n",
              "      <td>2023-10-03</td>\n",
              "    </tr>\n",
              "  </tbody>\n",
              "</table>\n",
              "</div>"
            ],
            "text/plain": [
              "   id_transacao     tipo    categoria    valor meio_pagamento data_transacao\n",
              "0             1  Despesa        Saúde  1930.29       Dinheiro     2023-07-10\n",
              "1             2  Despesa        Lazer  1568.54       Dinheiro     2023-02-08\n",
              "2             3  Receita      Moradia  1078.88       Dinheiro     2023-09-28\n",
              "3             4  Receita     Educação   534.22       Dinheiro     2023-09-22\n",
              "4             5  Receita  Alimentação    77.27       Dinheiro     2023-10-03"
            ]
          },
          "execution_count": 2,
          "metadata": {},
          "output_type": "execute_result"
        }
      ],
      "source": [
        "# Leitura do arquivo (certifique-se de que ele esteja no mesmo diretório ou faça upload)\n",
        "df = pd.read_csv(\"app_controle_financeiro.csv\")\n",
        "df.head()"
      ]
    },
    {
      "cell_type": "markdown",
      "id": "8803c088",
      "metadata": {
        "id": "8803c088"
      },
      "source": [
        "## 🧼 Etapa 3: Limpeza de Dados\n",
        "Verificação de valores nulos, duplicados, inconsistentes."
      ]
    },
    {
      "cell_type": "code",
      "execution_count": 3,
      "id": "081356a2",
      "metadata": {
        "colab": {
          "base_uri": "https://localhost:8080/"
        },
        "id": "081356a2",
        "outputId": "9ca60a3e-0411-44bb-f5c7-a7c8c4bb8be4"
      },
      "outputs": [
        {
          "name": "stdout",
          "output_type": "stream",
          "text": [
            "id_transacao      0\n",
            "tipo              0\n",
            "categoria         0\n",
            "valor             0\n",
            "meio_pagamento    0\n",
            "data_transacao    0\n",
            "dtype: int64\n",
            "Duplicatas: 0\n",
            "Index(['id_transacao', 'tipo', 'categoria', 'valor', 'meio_pagamento',\n",
            "       'data_transacao'],\n",
            "      dtype='object')\n"
          ]
        }
      ],
      "source": [
        "# Verificar valores ausentes\n",
        "print(df.isnull().sum())\n",
        "\n",
        "# Verificar duplicatas\n",
        "print(\"Duplicatas:\", df.duplicated().sum())\n",
        "\n",
        "# Excluir duplicatas se necessário\n",
        "# df = df.drop_duplicates()\n",
        "print(df.columns)\n"
      ]
    },
    {
      "cell_type": "markdown",
      "id": "f99ef632",
      "metadata": {
        "id": "f99ef632"
      },
      "source": [
        "## 🔗 Etapa 4: Integração de Dados (se aplicável)\n",
        "Exemplo de junção com outro dataframe."
      ]
    },
    {
      "cell_type": "code",
      "execution_count": null,
      "id": "855f3fb3",
      "metadata": {
        "id": "855f3fb3"
      },
      "outputs": [],
      "source": [
        "# Exemplo fictício de junção\n",
        "# df_outro = pd.read_csv(\"outro_dataset.csv\")\n",
        "# df = pd.merge(df, df_outro, how='left', on='id_comum')\n"
      ]
    },
    {
      "cell_type": "markdown",
      "id": "50511bf1",
      "metadata": {
        "id": "50511bf1"
      },
      "source": [
        "## 🧹 Etapa 5: Redução de Dados\n",
        "Amostragem, remoção de atributos irrelevantes."
      ]
    },
    {
      "cell_type": "code",
      "execution_count": 6,
      "id": "3806ae17",
      "metadata": {
        "id": "3806ae17"
      },
      "outputs": [],
      "source": [
        "# Excluir colunas irrelevantes\n",
        "# df = df.drop(columns=['coluna_irrelevante'])\n",
        "\n",
        "# Amostragem (10%)\n",
        "# df_amostra = df.sample(frac=0.1, random_state=42)\n"
      ]
    },
    {
      "cell_type": "markdown",
      "id": "68777a13",
      "metadata": {
        "id": "68777a13"
      },
      "source": [
        "## 🔄 Etapa 6: Transformação de Dados\n",
        "Inclui normalização, codificação de categorias, padronização de formatos."
      ]
    },
    {
      "cell_type": "code",
      "execution_count": 4,
      "id": "093adcde",
      "metadata": {
        "colab": {
          "base_uri": "https://localhost:8080/",
          "height": 348
        },
        "id": "093adcde",
        "outputId": "9f1d782e-de0e-4077-ef62-b46a70a9ba25"
      },
      "outputs": [
        {
          "name": "stdout",
          "output_type": "stream",
          "text": [
            "Index(['id_transacao', 'tipo', 'valor', 'data_transacao',\n",
            "       'categoria_Alimentação', 'categoria_Educação', 'categoria_Lazer',\n",
            "       'categoria_Moradia', 'categoria_Saúde', 'categoria_Transporte',\n",
            "       'meio_pagamento_Cartão Crédito', 'meio_pagamento_Cartão Débito',\n",
            "       'meio_pagamento_Dinheiro', 'meio_pagamento_Transferência'],\n",
            "      dtype='object')\n"
          ]
        },
        {
          "data": {
            "text/html": [
              "<div>\n",
              "<style scoped>\n",
              "    .dataframe tbody tr th:only-of-type {\n",
              "        vertical-align: middle;\n",
              "    }\n",
              "\n",
              "    .dataframe tbody tr th {\n",
              "        vertical-align: top;\n",
              "    }\n",
              "\n",
              "    .dataframe thead th {\n",
              "        text-align: right;\n",
              "    }\n",
              "</style>\n",
              "<table border=\"1\" class=\"dataframe\">\n",
              "  <thead>\n",
              "    <tr style=\"text-align: right;\">\n",
              "      <th></th>\n",
              "      <th>id_transacao</th>\n",
              "      <th>tipo</th>\n",
              "      <th>valor</th>\n",
              "      <th>data_transacao</th>\n",
              "      <th>categoria_Alimentação</th>\n",
              "      <th>categoria_Educação</th>\n",
              "      <th>categoria_Lazer</th>\n",
              "      <th>categoria_Moradia</th>\n",
              "      <th>categoria_Saúde</th>\n",
              "      <th>categoria_Transporte</th>\n",
              "      <th>meio_pagamento_Cartão Crédito</th>\n",
              "      <th>meio_pagamento_Cartão Débito</th>\n",
              "      <th>meio_pagamento_Dinheiro</th>\n",
              "      <th>meio_pagamento_Transferência</th>\n",
              "    </tr>\n",
              "  </thead>\n",
              "  <tbody>\n",
              "    <tr>\n",
              "      <th>0</th>\n",
              "      <td>1</td>\n",
              "      <td>despesa</td>\n",
              "      <td>0.966161</td>\n",
              "      <td>2023-07-10</td>\n",
              "      <td>False</td>\n",
              "      <td>False</td>\n",
              "      <td>False</td>\n",
              "      <td>False</td>\n",
              "      <td>True</td>\n",
              "      <td>False</td>\n",
              "      <td>False</td>\n",
              "      <td>False</td>\n",
              "      <td>True</td>\n",
              "      <td>False</td>\n",
              "    </tr>\n",
              "    <tr>\n",
              "      <th>1</th>\n",
              "      <td>2</td>\n",
              "      <td>despesa</td>\n",
              "      <td>0.783916</td>\n",
              "      <td>2023-02-08</td>\n",
              "      <td>False</td>\n",
              "      <td>False</td>\n",
              "      <td>True</td>\n",
              "      <td>False</td>\n",
              "      <td>False</td>\n",
              "      <td>False</td>\n",
              "      <td>False</td>\n",
              "      <td>False</td>\n",
              "      <td>True</td>\n",
              "      <td>False</td>\n",
              "    </tr>\n",
              "    <tr>\n",
              "      <th>2</th>\n",
              "      <td>3</td>\n",
              "      <td>receita</td>\n",
              "      <td>0.537232</td>\n",
              "      <td>2023-09-28</td>\n",
              "      <td>False</td>\n",
              "      <td>False</td>\n",
              "      <td>False</td>\n",
              "      <td>True</td>\n",
              "      <td>False</td>\n",
              "      <td>False</td>\n",
              "      <td>False</td>\n",
              "      <td>False</td>\n",
              "      <td>True</td>\n",
              "      <td>False</td>\n",
              "    </tr>\n",
              "    <tr>\n",
              "      <th>3</th>\n",
              "      <td>4</td>\n",
              "      <td>receita</td>\n",
              "      <td>0.262840</td>\n",
              "      <td>2023-09-22</td>\n",
              "      <td>False</td>\n",
              "      <td>True</td>\n",
              "      <td>False</td>\n",
              "      <td>False</td>\n",
              "      <td>False</td>\n",
              "      <td>False</td>\n",
              "      <td>False</td>\n",
              "      <td>False</td>\n",
              "      <td>True</td>\n",
              "      <td>False</td>\n",
              "    </tr>\n",
              "    <tr>\n",
              "      <th>4</th>\n",
              "      <td>5</td>\n",
              "      <td>receita</td>\n",
              "      <td>0.032635</td>\n",
              "      <td>2023-10-03</td>\n",
              "      <td>True</td>\n",
              "      <td>False</td>\n",
              "      <td>False</td>\n",
              "      <td>False</td>\n",
              "      <td>False</td>\n",
              "      <td>False</td>\n",
              "      <td>False</td>\n",
              "      <td>False</td>\n",
              "      <td>True</td>\n",
              "      <td>False</td>\n",
              "    </tr>\n",
              "  </tbody>\n",
              "</table>\n",
              "</div>"
            ],
            "text/plain": [
              "   id_transacao     tipo     valor data_transacao  categoria_Alimentação  \\\n",
              "0             1  despesa  0.966161     2023-07-10                  False   \n",
              "1             2  despesa  0.783916     2023-02-08                  False   \n",
              "2             3  receita  0.537232     2023-09-28                  False   \n",
              "3             4  receita  0.262840     2023-09-22                  False   \n",
              "4             5  receita  0.032635     2023-10-03                   True   \n",
              "\n",
              "   categoria_Educação  categoria_Lazer  categoria_Moradia  categoria_Saúde  \\\n",
              "0               False            False              False             True   \n",
              "1               False             True              False            False   \n",
              "2               False            False               True            False   \n",
              "3                True            False              False            False   \n",
              "4               False            False              False            False   \n",
              "\n",
              "   categoria_Transporte  meio_pagamento_Cartão Crédito  \\\n",
              "0                 False                          False   \n",
              "1                 False                          False   \n",
              "2                 False                          False   \n",
              "3                 False                          False   \n",
              "4                 False                          False   \n",
              "\n",
              "   meio_pagamento_Cartão Débito  meio_pagamento_Dinheiro  \\\n",
              "0                         False                     True   \n",
              "1                         False                     True   \n",
              "2                         False                     True   \n",
              "3                         False                     True   \n",
              "4                         False                     True   \n",
              "\n",
              "   meio_pagamento_Transferência  \n",
              "0                         False  \n",
              "1                         False  \n",
              "2                         False  \n",
              "3                         False  \n",
              "4                         False  "
            ]
          },
          "execution_count": 4,
          "metadata": {},
          "output_type": "execute_result"
        }
      ],
      "source": [
        "# Normalização com Min-Max\n",
        "from sklearn.preprocessing import MinMaxScaler\n",
        "scaler = MinMaxScaler()\n",
        "df[['valor']] = scaler.fit_transform(df[['valor']])\n",
        "\n",
        "# Codificação de categorias\n",
        "df = pd.get_dummies(df, columns=['categoria'])\n",
        "df = pd.get_dummies(df, columns=['meio_pagamento'])\n",
        "\n",
        "# Padronização de texto\n",
        "df['tipo'] = df['tipo'].str.lower().str.strip()\n",
        "print(df.columns)\n",
        "df.head()"
      ]
    },
    {
      "cell_type": "markdown",
      "id": "169f5ed1",
      "metadata": {
        "id": "169f5ed1"
      },
      "source": [
        "## 📊 Etapa 7: Análise Exploratória\n",
        "Visualização de dados para melhor compreensão."
      ]
    },
    {
      "cell_type": "code",
      "execution_count": 5,
      "id": "c7c8f872",
      "metadata": {
        "colab": {
          "base_uri": "https://localhost:8080/",
          "height": 499
        },
        "id": "c7c8f872",
        "outputId": "536bdb3a-3639-42a0-91f9-b6cb15b5a223"
      },
      "outputs": [
        {
          "data": {
            "text/plain": [
              "<Axes: xlabel='categoria_Alimentação', ylabel='valor'>"
            ]
          },
          "execution_count": 5,
          "metadata": {},
          "output_type": "execute_result"
        },
        {
          "data": {
            "image/png": "[encoded data removed]",
            "text/plain": [
              "<Figure size 640x480 with 1 Axes>"
            ]
          },
          "metadata": {},
          "output_type": "display_data"
        }
      ],
      "source": [
        "# Distribuição de categorias\n",
        "df['categoria_Alimentação'].value_counts().plot(kind='bar')\n",
        "\n",
        "# Boxplot para identificar outliers\n",
        "sns.boxplot(x='categoria_Alimentação', y='valor', data=df)\n"
      ]
    },
    {
      "cell_type": "markdown",
      "id": "ab323806",
      "metadata": {
        "id": "ab323806"
      },
      "source": [
        "## 🧠 Reflexão Final\n",
        "Explique as principais dificuldades encontradas na limpeza e transformação dos dados e como elas impactam o modelo de mineração de dados."
      ]
    },
    {
      "cell_type": "code",
      "execution_count": 64,
      "id": "395f9388",
      "metadata": {
        "colab": {
          "base_uri": "https://localhost:8080/"
        },
        "id": "395f9388",
        "outputId": "b505fa8e-bf6c-48ee-ee24-93996e26e84e"
      },
      "outputs": [
        {
          "name": "stdout",
          "output_type": "stream",
          "text": [
            "    1. Quais foram os principais problemas encontrados no dataset e como foram tratados?\n",
            "R.: Não encontramos problemas, pois a limpeza nos dados foi mínima.\n",
            "    2. Como a ausência de dados pode afetar a análise e quais métodos foram utilizados para lidar com isso?\n",
            "R.: A ausência de dados pode enviesar a análise. Não foi necessário utilizar métodos para tratar a ausência de dados, pois o nosso dataset estava completo.\n",
            "    3. Que atributos foram considerados irrelevantes ou redundantes e por que foram removidos?\n",
            "R.: Nenhum atributo foi considerado irrelevante ou redundante no nosso dataset – todos são essenciais para a análise.\n",
            "    4. Descreva como foi realizada a normalização ou padronização dos dados e sua importância.\n",
            "R.: Fizemos a padronização de dados nas colunas com valores do tipo texto. Isso é importante para que valores com significados iguais sejam categorizados mesmo com grafia discretamente diferente (Exemplo: Transporte e transporte são da mesma categoria).\n",
            "    5. Houve necessidade de codificar variáveis categóricas? Se sim, qual método foi escolhido e por quê?\n",
            "R.: Sim, houve necessidade de codificar variáveis categóricas, porque os modelos de machine learning e algoritmos estatísticos não trabalham com strings ou textos diretamente. As colunas 'categoria' e 'meio_pagamento' são variáveis categóricas (valores como \"alimentação\", \"crédito\", etc.), então precisavam ser convertidas em formato numérico. O método escolhido foi o  One-Hot Encoding com pd.get_dummies(): 1) porque ele cria colunas binárias (true ou false) para cada categoria; 2) Evita impor ordem numérica entre categorias que não têm hierarquia (diferente do LabelEncoder); 3)Funciona bem com algoritmos que não assumem relações ordinais, como regressão linear, árvore de decisão, etc.\n",
            "    6. Qual a importância da discretização em seu projeto e como ela foi aplicada (se aplicável)?\n",
            "R.: No nosso caso, não foi necessário aplicar a discretização nos dados.\n",
            "    7. Como a visualização gráfica auxiliou na compreensão do comportamento dos dados?\n",
            "R.: Ajuda a: 1) Validar suposições sobre os dados; 2) Ver a distribuição dos dados entre as categorias; 3) Obter insights sobre padrões e tendências.\n",
            "    8. Houve uso de integração de dados? Como isso afetou a consistência dos dados analisados?\n",
            "R.: Não. Não afetou.\n",
            "    9. Comente sobre o impacto do pré-processamento nos resultados que vocês esperam alcançar no projeto.\n",
            "R.: O pré-processamento impactou da seguinte forma: limpou e normalizou os dados, codificou as variáveis categóricas e padronizou os textos, o que facilita a compreensão dos dados do projeto. \n",
            "    10. Que outras técnicas de pré-processamento poderiam ser aplicadas para enriquecer a análise? Justifique.\n",
            "R.: Discretização (Converter variáveis numéricas contínuas em categorias discretas para análise mais simples ou para algoritmos específicos.); Criação de variáveis derivadas (Exemplo: extrair o mês da coluna data_transacao para identificar padrões sazonais) e Tratamento de Desbalanceamento de Classes (Usar técnicas como oversampling ou undersampling para lidar com distribuições irregulares de classes alvo, o que é crucial ao prever eventos financeiros raros, como, por exemplo, por exemplo, fraude, quedas de mercado).\n"
          ]
        }
      ],
      "source": [
        "# Utilize esta célula para sua resposta\n",
        "resposta = \"\"\"    1. Quais foram os principais problemas encontrados no dataset e como foram tratados?\n",
        "R.: Não encontramos problemas, pois a limpeza nos dados foi mínima.\n",
        "    2. Como a ausência de dados pode afetar a análise e quais métodos foram utilizados para lidar com isso?\n",
        "R.: A ausência de dados pode enviesar a análise. Não foi necessário utilizar métodos para tratar a ausência de dados, pois o nosso dataset estava completo.\n",
        "    3. Que atributos foram considerados irrelevantes ou redundantes e por que foram removidos?\n",
        "R.: Nenhum atributo foi considerado irrelevante ou redundante no nosso dataset – todos são essenciais para a análise.\n",
        "    4. Descreva como foi realizada a normalização ou padronização dos dados e sua importância.\n",
        "R.: Fizemos a padronização de dados nas colunas com valores do tipo texto. Isso é importante para que valores com significados iguais sejam categorizados mesmo com grafia discretamente diferente (Exemplo: Transporte e transporte são da mesma categoria).\n",
        "    5. Houve necessidade de codificar variáveis categóricas? Se sim, qual método foi escolhido e por quê?\n",
        "R.: Sim, houve necessidade de codificar variáveis categóricas, porque os modelos de machine learning e algoritmos estatísticos não trabalham com strings ou textos diretamente. As colunas 'categoria' e 'meio_pagamento' são variáveis categóricas (valores como \"alimentação\", \"crédito\", etc.), então precisavam ser convertidas em formato numérico. O método escolhido foi o  One-Hot Encoding com pd.get_dummies(): 1) porque ele cria colunas binárias (true ou false) para cada categoria; 2) Evita impor ordem numérica entre categorias que não têm hierarquia (diferente do LabelEncoder); 3)Funciona bem com algoritmos que não assumem relações ordinais, como regressão linear, árvore de decisão, etc.\n",
        "    6. Qual a importância da discretização em seu projeto e como ela foi aplicada (se aplicável)?\n",
        "R.: No nosso caso, não foi necessário aplicar a discretização nos dados.\n",
        "    7. Como a visualização gráfica auxiliou na compreensão do comportamento dos dados?\n",
        "R.: Ajuda a: 1) Validar suposições sobre os dados; 2) Ver a distribuição dos dados entre as categorias; 3) Obter insights sobre padrões e tendências.\n",
        "    8. Houve uso de integração de dados? Como isso afetou a consistência dos dados analisados?\n",
        "R.: Não. Não afetou.\n",
        "    9. Comente sobre o impacto do pré-processamento nos resultados que vocês esperam alcançar no projeto.\n",
        "R.: O pré-processamento impactou da seguinte forma: limpou e normalizou os dados, codificou as variáveis categóricas e padronizou os textos, o que facilita a compreensão dos dados do projeto.\n",
        "    10. Que outras técnicas de pré-processamento poderiam ser aplicadas para enriquecer a análise? Justifique.\n",
        "R.: Discretização (Converter variáveis numéricas contínuas em categorias discretas para análise mais simples ou para algoritmos específicos.); Criação de variáveis derivadas (Exemplo: extrair o mês da coluna data_transacao para identificar padrões sazonais) e Tratamento de Desbalanceamento de Classes (Usar técnicas como oversampling ou undersampling para lidar com distribuições irregulares de classes alvo, o que é crucial ao prever eventos financeiros raros, como, por exemplo, por exemplo, fraude, quedas de mercado).\"\"\"\n",
        "print(resposta)"
      ]
    }
  ],
  "metadata": {
    "colab": {
      "provenance": []
    },
    "kernelspec": {
      "display_name": "Python 3",
      "name": "python3"
    },
    "language_info": {
      "codemirror_mode": {
        "name": "ipython",
        "version": 3
      },
      "file_extension": ".py",
      "mimetype": "text/x-python",
      "name": "python",
      "nbconvert_exporter": "python",
      "pygments_lexer": "ipython3",
      "version": "3.12.1"
    }
  },
  "nbformat": 4,
  "nbformat_minor": 5
}
