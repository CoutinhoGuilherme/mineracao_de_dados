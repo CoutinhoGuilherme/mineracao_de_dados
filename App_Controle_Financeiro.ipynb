{
 "cells": [
  {
   "cell_type": "markdown",
   "id": "c543023e",
   "metadata": {},
   "source": [
    "# 🧪 Pré-processamento de Dados – Grupo: App – Controle Financeiro\n",
    "Aplicativo para controle de receitas e despesas pessoais.\n",
    "\n",
    "> Este notebook contém instruções para realizar as etapas de pré-processamento com base no dataset do projeto. Utilize as células abaixo como base para desenvolver sua análise."
   ]
  },
  {
   "cell_type": "markdown",
   "id": "6fca6708",
   "metadata": {},
   "source": [
    "## 📁 Etapa 1: Importação de bibliotecas"
   ]
  },
  {
   "cell_type": "code",
   "execution_count": null,
   "id": "ce6e0f19",
   "metadata": {},
   "outputs": [],
   "source": [
    "import pandas as pd\n",
    "import numpy as np\n",
    "import matplotlib.pyplot as plt\n",
    "import seaborn as sns\n",
    "\n",
    "pd.set_option('display.max_columns', None)\n",
    "sns.set(style=\"whitegrid\")"
   ]
  },
  {
   "cell_type": "markdown",
   "id": "ac520007",
   "metadata": {},
   "source": [
    "## 📂 Etapa 2: Carregamento do Dataset\n",
    "Carregue o dataset `app_controle_financeiro.csv`."
   ]
  },
  {
   "cell_type": "code",
   "execution_count": null,
   "id": "9a602cdc",
   "metadata": {},
   "outputs": [],
   "source": [
    "# Leitura do arquivo (certifique-se de que ele esteja no mesmo diretório ou faça upload)\n",
    "df = pd.read_csv(\"app_controle_financeiro.csv\")\n",
    "df.head()"
   ]
  },
  {
   "cell_type": "markdown",
   "id": "8803c088",
   "metadata": {},
   "source": [
    "## 🧼 Etapa 3: Limpeza de Dados\n",
    "Verificação de valores nulos, duplicados, inconsistentes."
   ]
  },
  {
   "cell_type": "code",
   "execution_count": null,
   "id": "081356a2",
   "metadata": {},
   "outputs": [],
   "source": [
    "# Verificar valores ausentes\n",
    "print(df.isnull().sum())\n",
    "\n",
    "# Verificar duplicatas\n",
    "print(\"Duplicatas:\", df.duplicated().sum())\n",
    "\n",
    "# Excluir duplicatas se necessário\n",
    "# df = df.drop_duplicates()\n"
   ]
  },
  {
   "cell_type": "markdown",
   "id": "f99ef632",
   "metadata": {},
   "source": [
    "## 🔗 Etapa 4: Integração de Dados (se aplicável)\n",
    "Exemplo de junção com outro dataframe."
   ]
  },
  {
   "cell_type": "code",
   "execution_count": null,
   "id": "855f3fb3",
   "metadata": {},
   "outputs": [],
   "source": [
    "# Exemplo fictício de junção\n",
    "# df_outro = pd.read_csv(\"outro_dataset.csv\")\n",
    "# df = pd.merge(df, df_outro, how='left', on='id_comum')\n"
   ]
  },
  {
   "cell_type": "markdown",
   "id": "50511bf1",
   "metadata": {},
   "source": [
    "## 🧹 Etapa 5: Redução de Dados\n",
    "Amostragem, remoção de atributos irrelevantes."
   ]
  },
  {
   "cell_type": "code",
   "execution_count": null,
   "id": "3806ae17",
   "metadata": {},
   "outputs": [],
   "source": [
    "# Excluir colunas irrelevantes\n",
    "# df = df.drop(columns=['coluna_irrelevante'])\n",
    "\n",
    "# Amostragem (10%)\n",
    "# df_amostra = df.sample(frac=0.1, random_state=42)\n"
   ]
  },
  {
   "cell_type": "markdown",
   "id": "68777a13",
   "metadata": {},
   "source": [
    "## 🔄 Etapa 6: Transformação de Dados\n",
    "Inclui normalização, codificação de categorias, padronização de formatos."
   ]
  },
  {
   "cell_type": "code",
   "execution_count": null,
   "id": "093adcde",
   "metadata": {},
   "outputs": [],
   "source": [
    "# Normalização com Min-Max\n",
    "# from sklearn.preprocessing import MinMaxScaler\n",
    "# scaler = MinMaxScaler()\n",
    "# df[['coluna_numerica']] = scaler.fit_transform(df[['coluna_numerica']])\n",
    "\n",
    "# Codificação de categorias\n",
    "# df = pd.get_dummies(df, columns=['coluna_categorica'])\n",
    "\n",
    "# Padronização de texto\n",
    "# df['coluna_texto'] = df['coluna_texto'].str.lower().str.strip()\n"
   ]
  },
  {
   "cell_type": "markdown",
   "id": "169f5ed1",
   "metadata": {},
   "source": [
    "## 📊 Etapa 7: Análise Exploratória\n",
    "Visualização de dados para melhor compreensão."
   ]
  },
  {
   "cell_type": "code",
   "execution_count": null,
   "id": "c7c8f872",
   "metadata": {},
   "outputs": [],
   "source": [
    "# Distribuição de categorias\n",
    "# df['coluna_categorica'].value_counts().plot(kind='bar')\n",
    "\n",
    "# Boxplot para identificar outliers\n",
    "# sns.boxplot(x='coluna', y='coluna_numerica', data=df)\n"
   ]
  },
  {
   "cell_type": "markdown",
   "id": "ab323806",
   "metadata": {},
   "source": [
    "## 🧠 Reflexão Final\n",
    "Explique as principais dificuldades encontradas na limpeza e transformação dos dados e como elas impactam o modelo de mineração de dados."
   ]
  },
  {
   "cell_type": "code",
   "execution_count": null,
   "id": "395f9388",
   "metadata": {},
   "outputs": [],
   "source": [
    "# Utilize esta célula para sua resposta\n",
    "resposta = \"\"\"Escreva aqui sua análise sobre o processo de pré-processamento realizado no seu dataset.\"\"\"\n",
    "print(resposta)"
   ]
  }
 ],
 "metadata": {
  "colab": {
   "name": "App_Controle_Financeiro"
  }
 },
 "nbformat": 4,
 "nbformat_minor": 5
}