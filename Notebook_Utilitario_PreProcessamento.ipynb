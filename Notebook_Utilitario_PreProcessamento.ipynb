{
 "cells": [
  {
   "cell_type": "markdown",
   "id": "ca3ffb5a",
   "metadata": {},
   "source": [
    "# 🧰 Notebook Utilitário – Canivete Suíço para Pré-processamento de Dados\n",
    "Este notebook contém exemplos e utilitários para aplicar todas as etapas de pré-processamento necessárias nos projetos da disciplina de Mineração de Dados."
   ]
  },
  {
   "cell_type": "markdown",
   "id": "c23b1d63",
   "metadata": {},
   "source": [
    "## 📁 Importação de Bibliotecas Essenciais"
   ]
  },
  {
   "cell_type": "code",
   "execution_count": null,
   "id": "15a458cf",
   "metadata": {},
   "outputs": [],
   "source": [
    "import pandas as pd\n",
    "import numpy as np\n",
    "import matplotlib.pyplot as plt\n",
    "import seaborn as sns\n",
    "from sklearn.preprocessing import MinMaxScaler, StandardScaler, KBinsDiscretizer, LabelEncoder\n",
    "\n",
    "pd.set_option('display.max_columns', None)\n",
    "sns.set(style='whitegrid')\n",
    "print(\"Bibliotecas carregadas com sucesso.\")"
   ]
  },
  {
   "cell_type": "markdown",
   "id": "2ab82499",
   "metadata": {},
   "source": [
    "## 📂 Leitura de Dataset (.csv)"
   ]
  },
  {
   "cell_type": "code",
   "execution_count": null,
   "id": "d5916580",
   "metadata": {},
   "outputs": [],
   "source": [
    "from google.colab import files\n",
    "\n",
    "uploaded = files.upload()\n",
    "for fn in uploaded.keys():\n",
    "    df = pd.read_csv(fn)\n",
    "\n",
    "df.head()"
   ]
  },
  {
   "cell_type": "markdown",
   "id": "a422e056",
   "metadata": {},
   "source": [
    "## 🧼 Limpeza de Dados"
   ]
  },
  {
   "cell_type": "code",
   "execution_count": null,
   "id": "b8ca21d4",
   "metadata": {},
   "outputs": [],
   "source": [
    "# Ver valores ausentes\n",
    "print(\"Valores ausentes:\")\n",
    "print(df.isnull().sum())\n",
    "\n",
    "# Eliminar valores ausentes\n",
    "# df = df.dropna()\n",
    "\n",
    "# Preencher com média, mediana ou moda\n",
    "# df['coluna'] = df['coluna'].fillna(df['coluna'].mean())"
   ]
  },
  {
   "cell_type": "code",
   "execution_count": null,
   "id": "16f1041d",
   "metadata": {},
   "outputs": [],
   "source": [
    "# Verificar duplicatas\n",
    "print(\"Duplicatas:\", df.duplicated().sum())\n",
    "\n",
    "# Remover duplicatas\n",
    "# df = df.drop_duplicates()"
   ]
  },
  {
   "cell_type": "markdown",
   "id": "c3911fc6",
   "metadata": {},
   "source": [
    "## 🔗 Integração de Dados (Join)"
   ]
  },
  {
   "cell_type": "code",
   "execution_count": null,
   "id": "b281a2aa",
   "metadata": {},
   "outputs": [],
   "source": [
    "# df_outro = pd.read_csv(\"outro_dataset.csv\")\n",
    "# df = pd.merge(df, df_outro, how='left', on='id_comum')"
   ]
  },
  {
   "cell_type": "markdown",
   "id": "86009f8d",
   "metadata": {},
   "source": [
    "## 🧹 Redução de Dados"
   ]
  },
  {
   "cell_type": "code",
   "execution_count": null,
   "id": "eaab5236",
   "metadata": {},
   "outputs": [],
   "source": [
    "# Remoção de atributos irrelevantes\n",
    "# df = df.drop(columns=['coluna1', 'coluna2'])\n",
    "\n",
    "# Amostragem\n",
    "# df_sample = df.sample(frac=0.1, random_state=42)\n",
    "# df_sample.head()"
   ]
  },
  {
   "cell_type": "markdown",
   "id": "0215eeff",
   "metadata": {},
   "source": [
    "## 🔄 Transformação de Dados"
   ]
  },
  {
   "cell_type": "code",
   "execution_count": null,
   "id": "3d331709",
   "metadata": {},
   "outputs": [],
   "source": [
    "# Padronização de texto\n",
    "# df['coluna_texto'] = df['coluna_texto'].str.lower().str.strip()"
   ]
  },
  {
   "cell_type": "code",
   "execution_count": null,
   "id": "cabfba94",
   "metadata": {},
   "outputs": [],
   "source": [
    "# Normalização Min-Max\n",
    "# scaler = MinMaxScaler()\n",
    "# df[['coluna_numerica']] = scaler.fit_transform(df[['coluna_numerica']])"
   ]
  },
  {
   "cell_type": "code",
   "execution_count": null,
   "id": "13c1a57c",
   "metadata": {},
   "outputs": [],
   "source": [
    "# Normalização Z-Score\n",
    "# scaler = StandardScaler()\n",
    "# df[['coluna_numerica']] = scaler.fit_transform(df[['coluna_numerica']])"
   ]
  },
  {
   "cell_type": "markdown",
   "id": "3593cfce",
   "metadata": {},
   "source": [
    "## 🔢 Discretização de Dados Contínuos"
   ]
  },
  {
   "cell_type": "code",
   "execution_count": null,
   "id": "8ebc6adc",
   "metadata": {},
   "outputs": [],
   "source": [
    "# Discretização por faixa (binning)\n",
    "# discretizer = KBinsDiscretizer(n_bins=4, encode='ordinal', strategy='uniform')\n",
    "# df['coluna_discretizada'] = discretizer.fit_transform(df[['coluna_numerica']])\n",
    "# df['coluna_discretizada'] = df['coluna_discretizada'].astype(int)"
   ]
  },
  {
   "cell_type": "markdown",
   "id": "c5e563b8",
   "metadata": {},
   "source": [
    "## 🔠 Codificação de Variáveis Categóricas"
   ]
  },
  {
   "cell_type": "code",
   "execution_count": null,
   "id": "5067790b",
   "metadata": {},
   "outputs": [],
   "source": [
    "# Label Encoding\n",
    "# le = LabelEncoder()\n",
    "# df['coluna_label'] = le.fit_transform(df['coluna_categorica'])\n",
    "\n",
    "# One-Hot Encoding\n",
    "# df = pd.get_dummies(df, columns=['coluna_categorica'])"
   ]
  },
  {
   "cell_type": "markdown",
   "id": "72443d3f",
   "metadata": {},
   "source": [
    "## 📊 Visualização Exploratória"
   ]
  },
  {
   "cell_type": "code",
   "execution_count": null,
   "id": "c496fc49",
   "metadata": {},
   "outputs": [],
   "source": [
    "# df['coluna_categorica'].value_counts().plot(kind='bar')\n",
    "# sns.boxplot(x='coluna_categorica', y='coluna_numerica', data=df)\n",
    "# sns.heatmap(df.corr(numeric_only=True), annot=True, cmap='coolwarm')"
   ]
  },
  {
   "cell_type": "markdown",
   "id": "6f00c705",
   "metadata": {},
   "source": [
    "## ✅ Checklist Final"
   ]
  },
  {
   "cell_type": "code",
   "execution_count": null,
   "id": "369baa78",
   "metadata": {},
   "outputs": [],
   "source": [
    "print(\"\"\"Checklist:\n",
    "[ ] Dados carregados\n",
    "[ ] Limpeza realizada\n",
    "[ ] Dados normalizados/discretizados\n",
    "[ ] Variáveis categóricas codificadas\n",
    "[ ] Pronto para mineração de dados!\"\"\")"
   ]
  }
 ],
 "metadata": {
  "colab": {
   "name": "Notebook_Utilitario_PreProcessamento"
  }
 },
 "nbformat": 4,
 "nbformat_minor": 5
}